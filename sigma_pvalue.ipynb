{
 "cells": [
  {
   "cell_type": "markdown",
   "metadata": {},
   "source": [
    "## The Normal Distribution\n",
    "### sigma, pvalues and one-tailed probability\n",
    "\n",
    "A two-tailed hypothesis test is designed to show whether the measure is significantly greater than and significantly less than the mean of a population. The two-tailed test gets its name from testing the area under both tails (sides) of a normal distribution. A one-tailed hypothesis test, on the other hand, is set up to show that the measure would be higher or lower than the population mean.\n",
    "\n",
    "#### two-tailed probability in standard deviations\n",
    "\n",
    "| $\\sigma$ | Probability |\n",
    "| ------- | ----------- |\n",
    "| 1       | 0.683       |\n",
    "| 2       | 0.9545      |\n",
    "| 3       | 0.9973      |\n",
    "| 4       | 0.9999367   |\n",
    "| 5       | 0.99999943  |\n",
    "\n",
    "#### one-tailed pvalues \n",
    "In example, 3 $\\sigma$ two-tailed probability is 0.9973 which pvalue is given by the survival function: (1 - p) = 0.0027. This pvalue describes the probability of having a measure outside the $\\pm 3 \\sigma$. If one is interested in the one-tailed probability this number should be halved: (1 - p)/2 = 0.00135.\n"
   ]
  },
  {
   "cell_type": "markdown",
   "metadata": {},
   "source": [
    "Let's see some example on how to convert between standard deviation, probability and pvalue.\n",
    "\n",
    "First the imports."
   ]
  },
  {
   "cell_type": "code",
   "execution_count": 1,
   "metadata": {},
   "outputs": [],
   "source": [
    "import numpy as np\n",
    "from scipy.stats import norm"
   ]
  },
  {
   "cell_type": "markdown",
   "metadata": {},
   "source": [
    "Let's define a two-tailed probability of choice, i.e. p = 99.73% that we know corresponds to $3\\sigma$. "
   ]
  },
  {
   "cell_type": "code",
   "execution_count": 2,
   "metadata": {},
   "outputs": [],
   "source": [
    "p = 0.9973"
   ]
  },
  {
   "cell_type": "markdown",
   "metadata": {},
   "source": [
    "We want to know which is the one-tailed pvalue of that probability since our use cases are constructed on half of a symmetrical distribution. We define a function that given the probability returns its one-tailed pvalue. Beware of floating points and rounding errors."
   ]
  },
  {
   "cell_type": "code",
   "execution_count": 7,
   "metadata": {},
   "outputs": [],
   "source": [
    "def get_pval_from_prob(p, decimals=8):\n",
    "    return np.round((1-p)/2, decimals)"
   ]
  },
  {
   "cell_type": "markdown",
   "metadata": {},
   "source": [
    "And we find that the pvalue of p = 99.73% is:"
   ]
  },
  {
   "cell_type": "code",
   "execution_count": 8,
   "metadata": {},
   "outputs": [
    {
     "data": {
      "text/plain": [
       "0.00135"
      ]
     },
     "execution_count": 8,
     "metadata": {},
     "output_type": "execute_result"
    }
   ],
   "source": [
    "get_pval_from_prob(p)"
   ]
  },
  {
   "cell_type": "markdown",
   "metadata": {},
   "source": [
    "Now we define a function that given the pvalue returns the probability, to close the circle. We will simply have to invert the operation done above, remembering to double the pvalue:"
   ]
  },
  {
   "cell_type": "code",
   "execution_count": 9,
   "metadata": {},
   "outputs": [],
   "source": [
    "def get_prob_from_pvalue(pval, decimals=8):\n",
    "    return np.round(1-pval*2, decimals)"
   ]
  },
  {
   "cell_type": "markdown",
   "metadata": {},
   "source": [
    "Hence, using the previously found pvalue as input we find the same probability as before:"
   ]
  },
  {
   "cell_type": "code",
   "execution_count": 11,
   "metadata": {},
   "outputs": [
    {
     "data": {
      "text/plain": [
       "0.9973"
      ]
     },
     "execution_count": 11,
     "metadata": {},
     "output_type": "execute_result"
    }
   ],
   "source": [
    "pval = 0.00135\n",
    "get_prob_from_pvalue(pval)"
   ]
  },
  {
   "cell_type": "markdown",
   "metadata": {},
   "source": [
    "What really interest us is how to find the probability of a measure laying outside a given standard deviation threshold. This can be achived by calculating the survival function of that $\\sigma$ threshold. Let's define another function doing that."
   ]
  },
  {
   "cell_type": "code",
   "execution_count": 12,
   "metadata": {},
   "outputs": [],
   "source": [
    "def get_prob_from_sigma(sigma, decimals=8):\n",
    "    return np.round(1-(norm.sf(sigma)*2), decimals)"
   ]
  },
  {
   "cell_type": "markdown",
   "metadata": {},
   "source": [
    "And let's verify that we retrive the correct probability for $3\\sigma$, which we know it must be p = 99.73%."
   ]
  },
  {
   "cell_type": "code",
   "execution_count": 19,
   "metadata": {},
   "outputs": [
    {
     "data": {
      "text/plain": [
       "0.9973"
      ]
     },
     "execution_count": 19,
     "metadata": {},
     "output_type": "execute_result"
    }
   ],
   "source": [
    "sigma = 3\n",
    "get_prob_from_sigma(sigma, decimals=5)"
   ]
  },
  {
   "cell_type": "markdown",
   "metadata": {},
   "source": [
    "Now, since we actually want to convert standard deviation thresholds directly into pvalues, we can combine the two previously defined functions as such:"
   ]
  },
  {
   "cell_type": "code",
   "execution_count": 14,
   "metadata": {},
   "outputs": [],
   "source": [
    "def get_pvalue_from_sigma(sigma, decimals=8):\n",
    "    p = get_prob_from_sigma(sigma, decimals=decimals)\n",
    "    return get_pval_from_prob(p, decimals=decimals)"
   ]
  },
  {
   "cell_type": "markdown",
   "metadata": {},
   "source": [
    "And find that the one-tailed pvalue of $3\\sigma$ is once again:"
   ]
  },
  {
   "cell_type": "code",
   "execution_count": 16,
   "metadata": {},
   "outputs": [
    {
     "data": {
      "text/plain": [
       "0.00135"
      ]
     },
     "execution_count": 16,
     "metadata": {},
     "output_type": "execute_result"
    }
   ],
   "source": [
    "get_pvalue_from_sigma(sigma, decimals=5)"
   ]
  },
  {
   "cell_type": "markdown",
   "metadata": {},
   "source": [
    "This process can be, of course, done reversedly. One must find the percent point function (or inverse cumulative distribution function) relative to that pvalue. Remember that since the normal distribution is symmetrical, you want to take in absolute value the number of standard deviations rather than $\\pm n \\sigma$."
   ]
  },
  {
   "cell_type": "code",
   "execution_count": 17,
   "metadata": {},
   "outputs": [],
   "source": [
    "def get_sigma_from_pvalue(pval, decimals=3):\n",
    "    return np.abs(np.round(norm.ppf(pval), decimals))"
   ]
  },
  {
   "cell_type": "markdown",
   "metadata": {},
   "source": [
    "We can verify that from a pvalue of 0.00135 we once again obtain $3\\sigma$."
   ]
  },
  {
   "cell_type": "code",
   "execution_count": 18,
   "metadata": {},
   "outputs": [
    {
     "data": {
      "text/plain": [
       "3.0"
      ]
     },
     "execution_count": 18,
     "metadata": {},
     "output_type": "execute_result"
    }
   ],
   "source": [
    "get_sigma_from_pvalue(pval)"
   ]
  }
 ],
 "metadata": {
  "interpreter": {
   "hash": "cdd11fd6dafb22728507bacb81e73a8fccdefb6e5ab546d23f0276d20752413e"
  },
  "kernelspec": {
   "display_name": "Python 3.7.3 ('scitools')",
   "language": "python",
   "name": "python3"
  },
  "language_info": {
   "codemirror_mode": {
    "name": "ipython",
    "version": 3
   },
   "file_extension": ".py",
   "mimetype": "text/x-python",
   "name": "python",
   "nbconvert_exporter": "python",
   "pygments_lexer": "ipython3",
   "version": "3.7.3"
  },
  "orig_nbformat": 4
 },
 "nbformat": 4,
 "nbformat_minor": 2
}
